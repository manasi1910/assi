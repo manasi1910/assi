{
 "cells": [
  {
   "cell_type": "code",
   "execution_count": 8,
   "id": "6bd1a742",
   "metadata": {
    "collapsed": true
   },
   "outputs": [
    {
     "name": "stdout",
     "output_type": "stream",
     "text": [
      "Collecting numpy==1.21.6\n",
      "  Downloading numpy-1.21.6-cp39-cp39-win_amd64.whl (14.0 MB)\n",
      "     ---------------------------------------- 14.0/14.0 MB 2.0 MB/s eta 0:00:00\n",
      "Installing collected packages: numpy\n",
      "  Attempting uninstall: numpy\n",
      "    Found existing installation: numpy 1.24.3\n",
      "    Uninstalling numpy-1.24.3:\n",
      "      Successfully uninstalled numpy-1.24.3\n",
      "Successfully installed numpy-1.21.6\n",
      "Note: you may need to restart the kernel to use updated packages.\n"
     ]
    },
    {
     "name": "stderr",
     "output_type": "stream",
     "text": [
      "WARNING: Ignoring invalid distribution -rotobuf (c:\\users\\mansi\\appdata\\roaming\\python\\python39\\site-packages)\n",
      "WARNING: Ignoring invalid distribution -rotobuf (c:\\users\\mansi\\appdata\\roaming\\python\\python39\\site-packages)\n",
      "WARNING: Ignoring invalid distribution -rotobuf (c:\\users\\mansi\\appdata\\roaming\\python\\python39\\site-packages)\n",
      "    WARNING: Ignoring invalid distribution -rotobuf (c:\\users\\mansi\\appdata\\roaming\\python\\python39\\site-packages)\n",
      "ERROR: pip's dependency resolver does not currently take into account all the packages that are installed. This behaviour is the source of the following dependency conflicts.\n",
      "codecarbon 2.1.4 requires fuzzywuzzy, which is not installed.\n",
      "codecarbon 2.1.4 requires py-cpuinfo, which is not installed.\n",
      "tensorflow 2.9.1 requires libclang>=13.0.0, which is not installed.\n",
      "tensorflow 2.9.1 requires tensorflow-io-gcs-filesystem>=0.23.1, which is not installed.\n",
      "daal4py 2021.3.0 requires daal==2021.2.3, which is not installed.\n",
      "torchvision 0.14.1 requires torch==1.13.1, but you have torch 1.7.1 which is incompatible.\n",
      "kornia 0.6.9 requires torch>=1.9.1, but you have torch 1.7.1 which is incompatible.\n",
      "tensorflow 2.9.1 requires flatbuffers<2,>=1.12, but you have flatbuffers 2.0 which is incompatible.\n",
      "tensorflow 2.9.1 requires gast<=0.4.0,>=0.2.1, but you have gast 0.5.3 which is incompatible.\n",
      "tensorflow 2.9.1 requires protobuf<3.20,>=3.9.2, but you have protobuf 3.20.3 which is incompatible.\n",
      "numba 0.54.1 requires numpy<1.21,>=1.17, but you have numpy 1.21.6 which is incompatible.\n",
      "WARNING: Ignoring invalid distribution -rotobuf (c:\\users\\mansi\\appdata\\roaming\\python\\python39\\site-packages)\n",
      "WARNING: Ignoring invalid distribution -rotobuf (c:\\users\\mansi\\appdata\\roaming\\python\\python39\\site-packages)\n",
      "WARNING: Ignoring invalid distribution -rotobuf (c:\\users\\mansi\\appdata\\roaming\\python\\python39\\site-packages)\n",
      "\n",
      "[notice] A new release of pip is available: 23.0.1 -> 23.1.2\n",
      "[notice] To update, run: python.exe -m pip install --upgrade pip\n"
     ]
    }
   ],
   "source": [
    "pip install numpy==1.21.6"
   ]
  },
  {
   "cell_type": "code",
   "execution_count": null,
   "id": "7d504ab1",
   "metadata": {},
   "outputs": [],
   "source": []
  },
  {
   "cell_type": "code",
   "execution_count": 1,
   "id": "82712757",
   "metadata": {},
   "outputs": [],
   "source": [
    "# Importing Necesarry Packages\n",
    "import numpy as np\n",
    "import pandas as pd\n",
    "import matplotlib.pyplot as plt\n",
    "import seaborn as sns\n",
    "from sklearn.linear_model import LinearRegression\n",
    "from sklearn.datasets import load_boston\n",
    "from sklearn.model_selection import train_test_split\n",
    "from sklearn.preprocessing import StandardScaler\n",
    "from sklearn.metrics import r2_score\n",
    "from sklearn.metrics import mean_squared_error\n",
    "import keras\n",
    "from keras.layers import Dense, Activation,Dropout\n",
    "from keras.models import Sequential\n",
    "import warnings\n",
    "warnings.filterwarnings(\"ignore\") "
   ]
  },
  {
   "cell_type": "code",
   "execution_count": 16,
   "id": "b5fd135b",
   "metadata": {},
   "outputs": [
    {
     "name": "stdout",
     "output_type": "stream",
     "text": [
      "['CRIM' 'ZN' 'INDUS' 'CHAS' 'NOX' 'RM' 'AGE' 'DIS' 'RAD' 'TAX' 'PTRATIO'\n",
      " 'B' 'LSTAT']\n"
     ]
    }
   ],
   "source": [
    "b = load_boston()\n",
    "print(boston.feature_names)"
   ]
  },
  {
   "cell_type": "code",
   "execution_count": 2,
   "id": "5a750c54",
   "metadata": {},
   "outputs": [
    {
     "data": {
      "text/html": [
       "<div>\n",
       "<style scoped>\n",
       "    .dataframe tbody tr th:only-of-type {\n",
       "        vertical-align: middle;\n",
       "    }\n",
       "\n",
       "    .dataframe tbody tr th {\n",
       "        vertical-align: top;\n",
       "    }\n",
       "\n",
       "    .dataframe thead th {\n",
       "        text-align: right;\n",
       "    }\n",
       "</style>\n",
       "<table border=\"1\" class=\"dataframe\">\n",
       "  <thead>\n",
       "    <tr style=\"text-align: right;\">\n",
       "      <th></th>\n",
       "      <th>CRIM</th>\n",
       "      <th>ZN</th>\n",
       "      <th>INDUS</th>\n",
       "      <th>CHAS</th>\n",
       "      <th>NOX</th>\n",
       "      <th>RM</th>\n",
       "      <th>AGE</th>\n",
       "      <th>DIS</th>\n",
       "      <th>RAD</th>\n",
       "      <th>TAX</th>\n",
       "      <th>PTRATIO</th>\n",
       "      <th>B</th>\n",
       "      <th>LSTAT</th>\n",
       "      <th>PRICE</th>\n",
       "    </tr>\n",
       "  </thead>\n",
       "  <tbody>\n",
       "    <tr>\n",
       "      <th>0</th>\n",
       "      <td>0.00632</td>\n",
       "      <td>18.0</td>\n",
       "      <td>2.31</td>\n",
       "      <td>0.0</td>\n",
       "      <td>0.538</td>\n",
       "      <td>6.575</td>\n",
       "      <td>65.2</td>\n",
       "      <td>4.0900</td>\n",
       "      <td>1.0</td>\n",
       "      <td>296.0</td>\n",
       "      <td>15.3</td>\n",
       "      <td>396.90</td>\n",
       "      <td>4.98</td>\n",
       "      <td>24.0</td>\n",
       "    </tr>\n",
       "    <tr>\n",
       "      <th>1</th>\n",
       "      <td>0.02731</td>\n",
       "      <td>0.0</td>\n",
       "      <td>7.07</td>\n",
       "      <td>0.0</td>\n",
       "      <td>0.469</td>\n",
       "      <td>6.421</td>\n",
       "      <td>78.9</td>\n",
       "      <td>4.9671</td>\n",
       "      <td>2.0</td>\n",
       "      <td>242.0</td>\n",
       "      <td>17.8</td>\n",
       "      <td>396.90</td>\n",
       "      <td>9.14</td>\n",
       "      <td>21.6</td>\n",
       "    </tr>\n",
       "    <tr>\n",
       "      <th>2</th>\n",
       "      <td>0.02729</td>\n",
       "      <td>0.0</td>\n",
       "      <td>7.07</td>\n",
       "      <td>0.0</td>\n",
       "      <td>0.469</td>\n",
       "      <td>7.185</td>\n",
       "      <td>61.1</td>\n",
       "      <td>4.9671</td>\n",
       "      <td>2.0</td>\n",
       "      <td>242.0</td>\n",
       "      <td>17.8</td>\n",
       "      <td>392.83</td>\n",
       "      <td>4.03</td>\n",
       "      <td>34.7</td>\n",
       "    </tr>\n",
       "    <tr>\n",
       "      <th>3</th>\n",
       "      <td>0.03237</td>\n",
       "      <td>0.0</td>\n",
       "      <td>2.18</td>\n",
       "      <td>0.0</td>\n",
       "      <td>0.458</td>\n",
       "      <td>6.998</td>\n",
       "      <td>45.8</td>\n",
       "      <td>6.0622</td>\n",
       "      <td>3.0</td>\n",
       "      <td>222.0</td>\n",
       "      <td>18.7</td>\n",
       "      <td>394.63</td>\n",
       "      <td>2.94</td>\n",
       "      <td>33.4</td>\n",
       "    </tr>\n",
       "    <tr>\n",
       "      <th>4</th>\n",
       "      <td>0.06905</td>\n",
       "      <td>0.0</td>\n",
       "      <td>2.18</td>\n",
       "      <td>0.0</td>\n",
       "      <td>0.458</td>\n",
       "      <td>7.147</td>\n",
       "      <td>54.2</td>\n",
       "      <td>6.0622</td>\n",
       "      <td>3.0</td>\n",
       "      <td>222.0</td>\n",
       "      <td>18.7</td>\n",
       "      <td>396.90</td>\n",
       "      <td>5.33</td>\n",
       "      <td>36.2</td>\n",
       "    </tr>\n",
       "  </tbody>\n",
       "</table>\n",
       "</div>"
      ],
      "text/plain": [
       "      CRIM    ZN  INDUS  CHAS    NOX     RM   AGE     DIS  RAD    TAX  \\\n",
       "0  0.00632  18.0   2.31   0.0  0.538  6.575  65.2  4.0900  1.0  296.0   \n",
       "1  0.02731   0.0   7.07   0.0  0.469  6.421  78.9  4.9671  2.0  242.0   \n",
       "2  0.02729   0.0   7.07   0.0  0.469  7.185  61.1  4.9671  2.0  242.0   \n",
       "3  0.03237   0.0   2.18   0.0  0.458  6.998  45.8  6.0622  3.0  222.0   \n",
       "4  0.06905   0.0   2.18   0.0  0.458  7.147  54.2  6.0622  3.0  222.0   \n",
       "\n",
       "   PTRATIO       B  LSTAT  PRICE  \n",
       "0     15.3  396.90   4.98   24.0  \n",
       "1     17.8  396.90   9.14   21.6  \n",
       "2     17.8  392.83   4.03   34.7  \n",
       "3     18.7  394.63   2.94   33.4  \n",
       "4     18.7  396.90   5.33   36.2  "
      ]
     },
     "execution_count": 2,
     "metadata": {},
     "output_type": "execute_result"
    }
   ],
   "source": [
    "# Loading Data\n",
    "boston = load_boston()\n",
    "data = pd.DataFrame(boston.data)\n",
    "data.columns = boston.feature_names\n",
    "data['PRICE'] = boston.target \n",
    "data.head()"
   ]
  },
  {
   "cell_type": "code",
   "execution_count": 3,
   "id": "3d55efd3",
   "metadata": {},
   "outputs": [
    {
     "name": "stdout",
     "output_type": "stream",
     "text": [
      "(506, 14)\n",
      "CRIM       float64\n",
      "ZN         float64\n",
      "INDUS      float64\n",
      "CHAS       float64\n",
      "NOX        float64\n",
      "RM         float64\n",
      "AGE        float64\n",
      "DIS        float64\n",
      "RAD        float64\n",
      "TAX        float64\n",
      "PTRATIO    float64\n",
      "B          float64\n",
      "LSTAT      float64\n",
      "PRICE      float64\n",
      "dtype: object\n",
      "CRIM       0\n",
      "ZN         0\n",
      "INDUS      0\n",
      "CHAS       0\n",
      "NOX        0\n",
      "RM         0\n",
      "AGE        0\n",
      "DIS        0\n",
      "RAD        0\n",
      "TAX        0\n",
      "PTRATIO    0\n",
      "B          0\n",
      "LSTAT      0\n",
      "PRICE      0\n",
      "dtype: int64\n",
      "             CRIM          ZN       INDUS        CHAS         NOX          RM  \\\n",
      "count  506.000000  506.000000  506.000000  506.000000  506.000000  506.000000   \n",
      "mean     3.613524   11.363636   11.136779    0.069170    0.554695    6.284634   \n",
      "std      8.601545   23.322453    6.860353    0.253994    0.115878    0.702617   \n",
      "min      0.006320    0.000000    0.460000    0.000000    0.385000    3.561000   \n",
      "25%      0.082045    0.000000    5.190000    0.000000    0.449000    5.885500   \n",
      "50%      0.256510    0.000000    9.690000    0.000000    0.538000    6.208500   \n",
      "75%      3.677083   12.500000   18.100000    0.000000    0.624000    6.623500   \n",
      "max     88.976200  100.000000   27.740000    1.000000    0.871000    8.780000   \n",
      "\n",
      "              AGE         DIS         RAD         TAX     PTRATIO           B  \\\n",
      "count  506.000000  506.000000  506.000000  506.000000  506.000000  506.000000   \n",
      "mean    68.574901    3.795043    9.549407  408.237154   18.455534  356.674032   \n",
      "std     28.148861    2.105710    8.707259  168.537116    2.164946   91.294864   \n",
      "min      2.900000    1.129600    1.000000  187.000000   12.600000    0.320000   \n",
      "25%     45.025000    2.100175    4.000000  279.000000   17.400000  375.377500   \n",
      "50%     77.500000    3.207450    5.000000  330.000000   19.050000  391.440000   \n",
      "75%     94.075000    5.188425   24.000000  666.000000   20.200000  396.225000   \n",
      "max    100.000000   12.126500   24.000000  711.000000   22.000000  396.900000   \n",
      "\n",
      "            LSTAT       PRICE  \n",
      "count  506.000000  506.000000  \n",
      "mean    12.653063   22.532806  \n",
      "std      7.141062    9.197104  \n",
      "min      1.730000    5.000000  \n",
      "25%      6.950000   17.025000  \n",
      "50%     11.360000   21.200000  \n",
      "75%     16.955000   25.000000  \n",
      "max     37.970000   50.000000  \n"
     ]
    }
   ],
   "source": [
    "# Data Exploration\n",
    "print(data.shape)\n",
    "print(data.dtypes)\n",
    "print(data.isnull().sum())\n",
    "print(data.describe())"
   ]
  },
  {
   "cell_type": "code",
   "execution_count": 4,
   "id": "d59f79cd",
   "metadata": {},
   "outputs": [
    {
     "data": {
      "text/plain": [
       "<AxesSubplot: >"
      ]
     },
     "execution_count": 4,
     "metadata": {},
     "output_type": "execute_result"
    },
    {
     "data": {
      "image/png": "[encoded data removed]",
      "text/plain": [
       "<Figure size 360x360 with 1 Axes>"
      ]
     },
     "metadata": {
      "needs_background": "light"
     },
     "output_type": "display_data"
    },
    {
     "data": {
      "image/png": "[encoded data removed]",
      "text/plain": [
       "<Figure size 1080x864 with 2 Axes>"
      ]
     },
     "metadata": {
      "needs_background": "light"
     },
     "output_type": "display_data"
    }
   ],
   "source": [
    "# Data Visualization\n",
    "sns.displot(data.PRICE)\n",
    "\n",
    "correlation = data.corr()\n",
    "correlation.loc['PRICE']\n",
    "\n",
    "fig,axes = plt.subplots(figsize=(15,12))\n",
    "sns.heatmap(correlation,square = True,annot = True)"
   ]
  },
  {
   "cell_type": "code",
   "execution_count": 5,
   "id": "3c3c3062",
   "metadata": {},
   "outputs": [],
   "source": [
    "# Splitting Data into testing and training data\n",
    "X = data.iloc[:,:-1]\n",
    "y= data.PRICE\n",
    "X_train, X_test, y_train, y_test = train_test_split(X,y, test_size = 0.2, random_state = 4)\n",
    "\n",
    "# Normalizing the data\n",
    "sc = StandardScaler()\n",
    "X_train = sc.fit_transform(X_train)\n",
    "X_test = sc.transform(X_test)"
   ]
  },
  {
   "cell_type": "code",
   "execution_count": 6,
   "id": "1f2f8bd3",
   "metadata": {},
   "outputs": [
    {
     "name": "stdout",
     "output_type": "stream",
     "text": [
      "Model: \"sequential\"\n",
      "_________________________________________________________________\n",
      " Layer (type)                Output Shape              Param #   \n",
      "=================================================================\n",
      " dense (Dense)               (None, 128)               1792      \n",
      "                                                                 \n",
      " dense_1 (Dense)             (None, 64)                8256      \n",
      "                                                                 \n",
      " dense_2 (Dense)             (None, 32)                2080      \n",
      "                                                                 \n",
      " dense_3 (Dense)             (None, 16)                528       \n",
      "                                                                 \n",
      " dense_4 (Dense)             (None, 1)                 17        \n",
      "                                                                 \n",
      "=================================================================\n",
      "Total params: 12,673\n",
      "Trainable params: 12,673\n",
      "Non-trainable params: 0\n",
      "_________________________________________________________________\n"
     ]
    }
   ],
   "source": [
    "# Model Building\n",
    "model = Sequential()\n",
    "model.add(Dense(128,activation  = 'relu',input_dim =13))\n",
    "model.add(Dense(64,activation  = 'relu'))\n",
    "model.add(Dense(32,activation  = 'relu'))\n",
    "model.add(Dense(16,activation  = 'relu'))\n",
    "model.add(Dense(1))\n",
    "model.compile(optimizer = 'adam',loss = 'mean_squared_error')\n",
    "model.summary()"
   ]
  },
  {
   "cell_type": "code",
   "execution_count": 7,
   "id": "f285526d",
   "metadata": {
    "collapsed": true
   },
   "outputs": [
    {
     "name": "stdout",
     "output_type": "stream",
     "text": [
      "Epoch 1/100\n",
      "13/13 [==============================] - 1s 2ms/step - loss: 551.4073\n",
      "Epoch 2/100\n",
      "13/13 [==============================] - 0s 2ms/step - loss: 465.5171\n",
      "Epoch 3/100\n",
      "13/13 [==============================] - 0s 2ms/step - loss: 294.8768\n",
      "Epoch 4/100\n",
      "13/13 [==============================] - 0s 2ms/step - loss: 113.0966\n",
      "Epoch 5/100\n",
      "13/13 [==============================] - 0s 2ms/step - loss: 58.8054\n",
      "Epoch 6/100\n",
      "13/13 [==============================] - 0s 2ms/step - loss: 35.4246\n",
      "Epoch 7/100\n",
      "13/13 [==============================] - 0s 2ms/step - loss: 26.1651\n",
      "Epoch 8/100\n",
      "13/13 [==============================] - 0s 2ms/step - loss: 22.3389\n",
      "Epoch 9/100\n",
      "13/13 [==============================] - 0s 2ms/step - loss: 19.9996\n",
      "Epoch 10/100\n",
      "13/13 [==============================] - 0s 2ms/step - loss: 18.7302\n",
      "Epoch 11/100\n",
      "13/13 [==============================] - 0s 2ms/step - loss: 17.1339\n",
      "Epoch 12/100\n",
      "13/13 [==============================] - 0s 2ms/step - loss: 16.1021\n",
      "Epoch 13/100\n",
      "13/13 [==============================] - 0s 2ms/step - loss: 15.4348\n",
      "Epoch 14/100\n",
      "13/13 [==============================] - 0s 2ms/step - loss: 14.7875\n",
      "Epoch 15/100\n",
      "13/13 [==============================] - 0s 2ms/step - loss: 14.2603\n",
      "Epoch 16/100\n",
      "13/13 [==============================] - 0s 3ms/step - loss: 13.6718\n",
      "Epoch 17/100\n",
      "13/13 [==============================] - 0s 3ms/step - loss: 13.2108\n",
      "Epoch 18/100\n",
      "13/13 [==============================] - 0s 3ms/step - loss: 12.7821\n",
      "Epoch 19/100\n",
      "13/13 [==============================] - 0s 3ms/step - loss: 12.3997\n",
      "Epoch 20/100\n",
      "13/13 [==============================] - 0s 3ms/step - loss: 12.1164\n",
      "Epoch 21/100\n",
      "13/13 [==============================] - 0s 3ms/step - loss: 11.7713\n",
      "Epoch 22/100\n",
      "13/13 [==============================] - 0s 3ms/step - loss: 11.4608\n",
      "Epoch 23/100\n",
      "13/13 [==============================] - 0s 3ms/step - loss: 11.1683\n",
      "Epoch 24/100\n",
      "13/13 [==============================] - 0s 3ms/step - loss: 10.9681\n",
      "Epoch 25/100\n",
      "13/13 [==============================] - 0s 3ms/step - loss: 10.9243\n",
      "Epoch 26/100\n",
      "13/13 [==============================] - 0s 4ms/step - loss: 10.4494\n",
      "Epoch 27/100\n",
      "13/13 [==============================] - 0s 3ms/step - loss: 10.5212\n",
      "Epoch 28/100\n",
      "13/13 [==============================] - 0s 3ms/step - loss: 10.3641\n",
      "Epoch 29/100\n",
      "13/13 [==============================] - 0s 3ms/step - loss: 10.8737\n",
      "Epoch 30/100\n",
      "13/13 [==============================] - 0s 3ms/step - loss: 10.0333\n",
      "Epoch 31/100\n",
      "13/13 [==============================] - 0s 3ms/step - loss: 9.7528\n",
      "Epoch 32/100\n",
      "13/13 [==============================] - 0s 3ms/step - loss: 9.0984\n",
      "Epoch 33/100\n",
      "13/13 [==============================] - 0s 3ms/step - loss: 9.1102\n",
      "Epoch 34/100\n",
      "13/13 [==============================] - 0s 4ms/step - loss: 8.9969\n",
      "Epoch 35/100\n",
      "13/13 [==============================] - 0s 4ms/step - loss: 8.6144\n",
      "Epoch 36/100\n",
      "13/13 [==============================] - 0s 3ms/step - loss: 8.6743\n",
      "Epoch 37/100\n",
      "13/13 [==============================] - 0s 4ms/step - loss: 8.3441\n",
      "Epoch 38/100\n",
      "13/13 [==============================] - 0s 3ms/step - loss: 8.5433\n",
      "Epoch 39/100\n",
      "13/13 [==============================] - 0s 4ms/step - loss: 8.3339\n",
      "Epoch 40/100\n",
      "13/13 [==============================] - 0s 3ms/step - loss: 7.8148\n",
      "Epoch 41/100\n",
      "13/13 [==============================] - 0s 3ms/step - loss: 7.8069\n",
      "Epoch 42/100\n",
      "13/13 [==============================] - 0s 3ms/step - loss: 7.8426\n",
      "Epoch 43/100\n",
      "13/13 [==============================] - 0s 3ms/step - loss: 7.7698\n",
      "Epoch 44/100\n",
      "13/13 [==============================] - 0s 4ms/step - loss: 7.2767\n",
      "Epoch 45/100\n",
      "13/13 [==============================] - 0s 4ms/step - loss: 7.1041\n",
      "Epoch 46/100\n",
      "13/13 [==============================] - 0s 3ms/step - loss: 7.3366\n",
      "Epoch 47/100\n",
      "13/13 [==============================] - 0s 3ms/step - loss: 6.9807\n",
      "Epoch 48/100\n",
      "13/13 [==============================] - 0s 3ms/step - loss: 6.9162\n",
      "Epoch 49/100\n",
      "13/13 [==============================] - 0s 3ms/step - loss: 6.5729\n",
      "Epoch 50/100\n",
      "13/13 [==============================] - 0s 4ms/step - loss: 6.4478\n",
      "Epoch 51/100\n",
      "13/13 [==============================] - 0s 4ms/step - loss: 6.5031\n",
      "Epoch 52/100\n",
      "13/13 [==============================] - 0s 3ms/step - loss: 6.3428\n",
      "Epoch 53/100\n",
      "13/13 [==============================] - 0s 4ms/step - loss: 6.2467\n",
      "Epoch 54/100\n",
      "13/13 [==============================] - 0s 4ms/step - loss: 6.2236\n",
      "Epoch 55/100\n",
      "13/13 [==============================] - 0s 3ms/step - loss: 6.1317\n",
      "Epoch 56/100\n",
      "13/13 [==============================] - 0s 3ms/step - loss: 5.7657\n",
      "Epoch 57/100\n",
      "13/13 [==============================] - 0s 3ms/step - loss: 6.0102\n",
      "Epoch 58/100\n",
      "13/13 [==============================] - 0s 3ms/step - loss: 5.9129\n",
      "Epoch 59/100\n",
      "13/13 [==============================] - 0s 3ms/step - loss: 5.7536\n",
      "Epoch 60/100\n",
      "13/13 [==============================] - 0s 3ms/step - loss: 5.5696\n",
      "Epoch 61/100\n",
      "13/13 [==============================] - 0s 4ms/step - loss: 5.3964\n",
      "Epoch 62/100\n",
      "13/13 [==============================] - 0s 3ms/step - loss: 5.2201\n",
      "Epoch 63/100\n",
      "13/13 [==============================] - 0s 4ms/step - loss: 5.2928\n",
      "Epoch 64/100\n",
      "13/13 [==============================] - 0s 4ms/step - loss: 5.0926\n",
      "Epoch 65/100\n",
      "13/13 [==============================] - 0s 3ms/step - loss: 5.0881\n",
      "Epoch 66/100\n",
      "13/13 [==============================] - 0s 4ms/step - loss: 5.2502\n",
      "Epoch 67/100\n",
      "13/13 [==============================] - 0s 3ms/step - loss: 4.9854\n",
      "Epoch 68/100\n",
      "13/13 [==============================] - 0s 4ms/step - loss: 4.8921\n",
      "Epoch 69/100\n",
      "13/13 [==============================] - 0s 4ms/step - loss: 4.7239\n",
      "Epoch 70/100\n",
      "13/13 [==============================] - 0s 4ms/step - loss: 4.7984\n",
      "Epoch 71/100\n",
      "13/13 [==============================] - 0s 4ms/step - loss: 5.1746\n",
      "Epoch 72/100\n",
      "13/13 [==============================] - 0s 3ms/step - loss: 4.9718\n",
      "Epoch 73/100\n",
      "13/13 [==============================] - 0s 3ms/step - loss: 4.5724\n",
      "Epoch 74/100\n",
      "13/13 [==============================] - 0s 4ms/step - loss: 4.6743\n",
      "Epoch 75/100\n",
      "13/13 [==============================] - 0s 4ms/step - loss: 4.5128\n",
      "Epoch 76/100\n",
      "13/13 [==============================] - 0s 3ms/step - loss: 4.4135\n",
      "Epoch 77/100\n",
      "13/13 [==============================] - 0s 3ms/step - loss: 4.4239\n",
      "Epoch 78/100\n",
      "13/13 [==============================] - 0s 3ms/step - loss: 4.8636\n",
      "Epoch 79/100\n",
      "13/13 [==============================] - 0s 4ms/step - loss: 4.2302\n",
      "Epoch 80/100\n",
      "13/13 [==============================] - 0s 3ms/step - loss: 4.5670\n",
      "Epoch 81/100\n",
      "13/13 [==============================] - 0s 4ms/step - loss: 4.2428\n",
      "Epoch 82/100\n",
      "13/13 [==============================] - 0s 3ms/step - loss: 4.2803\n",
      "Epoch 83/100\n",
      "13/13 [==============================] - 0s 3ms/step - loss: 3.9975\n",
      "Epoch 84/100\n",
      "13/13 [==============================] - 0s 4ms/step - loss: 3.9349\n",
      "Epoch 85/100\n",
      "13/13 [==============================] - 0s 3ms/step - loss: 4.1237\n",
      "Epoch 86/100\n",
      "13/13 [==============================] - 0s 4ms/step - loss: 3.8528\n",
      "Epoch 87/100\n",
      "13/13 [==============================] - 0s 3ms/step - loss: 3.8185\n",
      "Epoch 88/100\n",
      "13/13 [==============================] - 0s 3ms/step - loss: 3.7584\n",
      "Epoch 89/100\n",
      "13/13 [==============================] - 0s 3ms/step - loss: 3.8015\n",
      "Epoch 90/100\n",
      "13/13 [==============================] - 0s 3ms/step - loss: 3.5783\n",
      "Epoch 91/100\n",
      "13/13 [==============================] - 0s 4ms/step - loss: 3.5801\n",
      "Epoch 92/100\n",
      "13/13 [==============================] - 0s 4ms/step - loss: 3.4893\n",
      "Epoch 93/100\n",
      "13/13 [==============================] - 0s 3ms/step - loss: 3.5640\n",
      "Epoch 94/100\n",
      "13/13 [==============================] - 0s 3ms/step - loss: 3.5996\n",
      "Epoch 95/100\n",
      "13/13 [==============================] - 0s 3ms/step - loss: 4.0180\n",
      "Epoch 96/100\n",
      "13/13 [==============================] - 0s 4ms/step - loss: 4.0812\n",
      "Epoch 97/100\n",
      "13/13 [==============================] - 0s 3ms/step - loss: 3.5795\n",
      "Epoch 98/100\n",
      "13/13 [==============================] - 0s 3ms/step - loss: 3.4495\n",
      "Epoch 99/100\n",
      "13/13 [==============================] - 0s 3ms/step - loss: 3.2729\n",
      "Epoch 100/100\n",
      "13/13 [==============================] - 0s 3ms/step - loss: 3.2159\n"
     ]
    },
    {
     "data": {
      "text/plain": [
       "<keras.callbacks.History at 0x1b7e2c59ac0>"
      ]
     },
     "execution_count": 7,
     "metadata": {},
     "output_type": "execute_result"
    }
   ],
   "source": [
    "# Fitting the data to the model\n",
    "model.fit(X_train, y_train, epochs = 100)"
   ]
  },
  {
   "cell_type": "code",
   "execution_count": 8,
   "id": "52ec3d3e",
   "metadata": {},
   "outputs": [
    {
     "name": "stdout",
     "output_type": "stream",
     "text": [
      "4/4 [==============================] - 0s 4ms/step\n",
      "R2 Score =  0.8813575236015109\n",
      "RMSE Score =  3.3197300501775726\n"
     ]
    }
   ],
   "source": [
    "# Evaluating the model\n",
    "y_pred = model.predict(X_test)\n",
    "r2 = r2_score(y_test, y_pred)\n",
    "rmse = (np.sqrt(mean_squared_error(y_test, y_pred)))\n",
    "print(\"R2 Score = \", r2)\n",
    "print(\"RMSE Score = \", rmse)"
   ]
  },
  {
   "cell_type": "code",
   "execution_count": 9,
   "id": "10be06cc",
   "metadata": {},
   "outputs": [],
   "source": [
    "model2 = LinearRegression()"
   ]
  },
  {
   "cell_type": "code",
   "execution_count": 10,
   "id": "fbbb5b58",
   "metadata": {},
   "outputs": [
    {
     "data": {
      "text/plain": [
       "LinearRegression()"
      ]
     },
     "execution_count": 10,
     "metadata": {},
     "output_type": "execute_result"
    }
   ],
   "source": [
    "model2.fit(X_train, y_train)"
   ]
  },
  {
   "cell_type": "code",
   "execution_count": 11,
   "id": "a3dddb6c",
   "metadata": {},
   "outputs": [],
   "source": [
    "y_pred2 = model2.predict(X_test)"
   ]
  },
  {
   "cell_type": "code",
   "execution_count": 12,
   "id": "f014baf6",
   "metadata": {},
   "outputs": [
    {
     "name": "stdout",
     "output_type": "stream",
     "text": [
      "R2 Score =  0.726345145970251\n",
      "RMSE Score =  5.04178412140205\n"
     ]
    }
   ],
   "source": [
    "r2 = r2_score(y_test, y_pred2)\n",
    "rmse = (np.sqrt(mean_squared_error(y_test, y_pred2)))\n",
    "print(\"R2 Score = \", r2)\n",
    "print(\"RMSE Score = \", rmse)"
   ]
  },
  {
   "cell_type": "code",
   "execution_count": null,
   "id": "c5cac1fc",
   "metadata": {},
   "outputs": [],
   "source": []
  }
 ],
 "metadata": {
  "kernelspec": {
   "display_name": "Python 3 (ipykernel)",
   "language": "python",
   "name": "python3"
  },
  "language_info": {
   "codemirror_mode": {
    "name": "ipython",
    "version": 3
   },
   "file_extension": ".py",
   "mimetype": "text/x-python",
   "name": "python",
   "nbconvert_exporter": "python",
   "pygments_lexer": "ipython3",
   "version": "3.9.7"
  }
 },
 "nbformat": 4,
 "nbformat_minor": 5
}
